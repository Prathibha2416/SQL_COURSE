{
 "cells": [
  {
   "cell_type": "code",
   "execution_count": 3,
   "id": "5a41f708-c50f-4591-a072-54ca260611f4",
   "metadata": {},
   "outputs": [],
   "source": [
    "# SQLite is a software library that implements a self-contained, serverless, zero-configuration, \n",
    "#transactional SQL database engine\n",
    "\n",
    "\n",
    "#  1----CREATE DATABASE USING SQLite \n",
    "\n",
    "#install and load SQLite3\n",
    "\n",
    "import sqlite3"
   ]
  },
  {
   "cell_type": "code",
   "execution_count": 5,
   "id": "0a61664f-d628-490c-adb8-3ed9ff711643",
   "metadata": {},
   "outputs": [],
   "source": [
    "#connecting to sqlite\n",
    "\n",
    "#step____1  CONNECTION OBJECT \n",
    "conn_object = sqlite3.connect(\"instructor.db\")"
   ]
  },
  {
   "cell_type": "code",
   "execution_count": 6,
   "id": "c7974fee-47cb-454e-9e8e-99f5b6deb465",
   "metadata": {},
   "outputs": [],
   "source": [
    "#Cursor class is an instance using which you can invoke methods that execute \n",
    "#SQLite statements, fetch data from the result sets of the queries. You can \n",
    "#create Cursor object using the cursor() method of the Connection object/class.\n",
    "\n",
    "\n",
    "\n",
    "#step_____2   CURSOR OBJECT \n",
    "\n",
    "cursor_object = conn_object.cursor()\n",
    "\n",
    "\n"
   ]
  },
  {
   "cell_type": "code",
   "execution_count": 7,
   "id": "f4d12906-61f9-42df-8c0c-6b0a4f41d58e",
   "metadata": {},
   "outputs": [
    {
     "data": {
      "text/plain": [
       "<sqlite3.Cursor at 0x7f6a3be0a640>"
      ]
     },
     "execution_count": 7,
     "metadata": {},
     "output_type": "execute_result"
    }
   ],
   "source": [
    "#  2-----CREATE A TABLE IN THE DATABASE\n",
    "\n",
    "\n",
    "#Before creating a table, let's first check if the table already exists or not. \n",
    "#To drop the table from a database, use the DROP query. A cursor is an object \n",
    "#that helps execute the query and fetch the records from the database.\n",
    "\n",
    "\n",
    "# Drop the table if already exists.\n",
    "\n",
    "cursor_object.execute(\"DROP TABLE IF EXISTS INSTRUCTOR\")"
   ]
  },
  {
   "cell_type": "code",
   "execution_count": 16,
   "id": "c2f0d879-0da1-45a5-81b9-acd0cb669da6",
   "metadata": {},
   "outputs": [
    {
     "name": "stdout",
     "output_type": "stream",
     "text": [
      "Table is Ready\n"
     ]
    }
   ],
   "source": [
    "# step_______3   creating table\n",
    "\n",
    "table = \"CREATE TABLE IF NOT EXISTS INSTRUCTOR (ID INT PRIMARY KEY NOT NULL, F_NAME  VARCHAR(20), L_NAME VARCHAR(20), CITY VARCHAR(20), CCODE VARCHAR(5));\"\n",
    "                                   \n",
    "cursor_object.execute(table)\n",
    "print(\"Table is Ready\")\n"
   ]
  },
  {
   "cell_type": "code",
   "execution_count": 25,
   "id": "68c5b50d-39e7-42c1-ac21-3c3ad96c4f2f",
   "metadata": {},
   "outputs": [],
   "source": [
    "#    3------INSERT DATA INTO TABLE \n",
    "\n",
    "cursor_object.execute(\"insert into INSTRUCTOR values (4, 'Raviya', 'Bilal', 'Toronto', 'CA'), (5, 'Rahul', 'Kumar', 'Mumbai', 'IN'), (6, 'Himaja', 'Velugula', 'Chicago', 'US')\");"
   ]
  },
  {
   "cell_type": "code",
   "execution_count": 30,
   "id": "9e2f8de0-5293-483a-a8de-056c34a0ff6b",
   "metadata": {},
   "outputs": [
    {
     "name": "stdout",
     "output_type": "stream",
     "text": [
      " Data from the table \n",
      "\n",
      "(1, 'Rav', 'Ahuja', 'Toronto', 'CA')\n",
      "(2, 'Rahul', 'Chowdary', 'Mumbai', 'IN')\n",
      "(3, 'Hima', 'Velugu', 'Chicago', 'US')\n",
      "(4, 'Raviya', 'Bilal', 'Toronto', 'CA')\n",
      "(5, 'Rahul', 'Kumar', 'Mumbai', 'IN')\n",
      "(6, 'Himaja', 'Velugula', 'Chicago', 'US')\n"
     ]
    }
   ],
   "source": [
    "#   4------QUERY DATA IN THE TABLE \n",
    "\n",
    "cursor_object.execute(\"select * from INSTRUCTOR ;\")\n",
    "print(\" Data from the table \\n\")\n",
    "data = cursor_object.fetchall()\n",
    "for row_data in data:\n",
    "    print(row_data)\n"
   ]
  },
  {
   "cell_type": "code",
   "execution_count": 32,
   "id": "6a327067-3c7b-4421-a6f3-4413461c3870",
   "metadata": {},
   "outputs": [
    {
     "name": "stdout",
     "output_type": "stream",
     "text": [
      "(1, 'Rav', 'Ahuja', 'Toronto', 'CA')\n",
      "(2, 'Rahul', 'Chowdary', 'Mumbai', 'IN')\n",
      "(3, 'Hima', 'Velugu', 'Chicago', 'US')\n"
     ]
    }
   ],
   "source": [
    "# retrive only 3 rows from the table \n",
    "\n",
    "cursor_object.execute(\"select * from INSTRUCTOR ; \")\n",
    "three_rows = cursor_object.fetchmany(3)\n",
    "for rows in three_rows:\n",
    "    print(rows)"
   ]
  },
  {
   "cell_type": "code",
   "execution_count": 37,
   "id": "ed7269c5-0e30-4723-b8ed-545d9312d001",
   "metadata": {},
   "outputs": [
    {
     "name": "stdout",
     "output_type": "stream",
     "text": [
      "(1, 'Rav', 'Ahuja', 'Toronto', 'CA')\n",
      "(2, 'Rahul', 'Chowdary', 'Mumbai', 'IN')\n",
      "(3, 'Hima', 'Velugu', 'Chicago', 'US')\n",
      "(4, 'Raviya', 'Bilal', 'Toronto', 'CA')\n",
      "(5, 'Rahul', 'Kumar', 'Mumbai', 'IN')\n",
      "(6, 'Himaja', 'Velugula', 'Philadelphia', 'EU')\n"
     ]
    }
   ],
   "source": [
    "#update the CITY and CCODE of Himaja to Philadelphia, EU\n",
    "\n",
    "cursor_object.execute(\"update INSTRUCTOR set CITY = 'Philadelphia', CCODE = 'EU' where ID = 6;\")\n",
    "\n",
    "cursor_object.execute(\"select * from INSTRUCTOR ;\")\n",
    "updated_table = cursor_object.fetchall()\n",
    "for update in updated_table:\n",
    "    print(update)"
   ]
  },
  {
   "cell_type": "code",
   "execution_count": 44,
   "id": "d6181743-08e2-4da7-a219-d60a08b6ccdc",
   "metadata": {},
   "outputs": [
    {
     "name": "stdout",
     "output_type": "stream",
     "text": [
      "Requirement already satisfied: pandas in /opt/conda/lib/python3.12/site-packages (2.2.3)\n",
      "Requirement already satisfied: numpy>=1.26.0 in /opt/conda/lib/python3.12/site-packages (from pandas) (2.2.3)\n",
      "Requirement already satisfied: python-dateutil>=2.8.2 in /opt/conda/lib/python3.12/site-packages (from pandas) (2.9.0.post0)\n",
      "Requirement already satisfied: pytz>=2020.1 in /opt/conda/lib/python3.12/site-packages (from pandas) (2024.2)\n",
      "Requirement already satisfied: tzdata>=2022.7 in /opt/conda/lib/python3.12/site-packages (from pandas) (2025.1)\n",
      "Requirement already satisfied: six>=1.5 in /opt/conda/lib/python3.12/site-packages (from python-dateutil>=2.8.2->pandas) (1.17.0)\n"
     ]
    },
    {
     "data": {
      "text/html": [
       "<div>\n",
       "<style scoped>\n",
       "    .dataframe tbody tr th:only-of-type {\n",
       "        vertical-align: middle;\n",
       "    }\n",
       "\n",
       "    .dataframe tbody tr th {\n",
       "        vertical-align: top;\n",
       "    }\n",
       "\n",
       "    .dataframe thead th {\n",
       "        text-align: right;\n",
       "    }\n",
       "</style>\n",
       "<table border=\"1\" class=\"dataframe\">\n",
       "  <thead>\n",
       "    <tr style=\"text-align: right;\">\n",
       "      <th></th>\n",
       "      <th>ID</th>\n",
       "      <th>F_NAME</th>\n",
       "      <th>L_NAME</th>\n",
       "      <th>CITY</th>\n",
       "      <th>CCODE</th>\n",
       "    </tr>\n",
       "  </thead>\n",
       "  <tbody>\n",
       "    <tr>\n",
       "      <th>0</th>\n",
       "      <td>1</td>\n",
       "      <td>Rav</td>\n",
       "      <td>Ahuja</td>\n",
       "      <td>Toronto</td>\n",
       "      <td>CA</td>\n",
       "    </tr>\n",
       "    <tr>\n",
       "      <th>1</th>\n",
       "      <td>2</td>\n",
       "      <td>Rahul</td>\n",
       "      <td>Chowdary</td>\n",
       "      <td>Mumbai</td>\n",
       "      <td>IN</td>\n",
       "    </tr>\n",
       "    <tr>\n",
       "      <th>2</th>\n",
       "      <td>3</td>\n",
       "      <td>Hima</td>\n",
       "      <td>Velugu</td>\n",
       "      <td>Chicago</td>\n",
       "      <td>US</td>\n",
       "    </tr>\n",
       "    <tr>\n",
       "      <th>3</th>\n",
       "      <td>4</td>\n",
       "      <td>Raviya</td>\n",
       "      <td>Bilal</td>\n",
       "      <td>Toronto</td>\n",
       "      <td>CA</td>\n",
       "    </tr>\n",
       "    <tr>\n",
       "      <th>4</th>\n",
       "      <td>5</td>\n",
       "      <td>Rahul</td>\n",
       "      <td>Kumar</td>\n",
       "      <td>Mumbai</td>\n",
       "      <td>IN</td>\n",
       "    </tr>\n",
       "    <tr>\n",
       "      <th>5</th>\n",
       "      <td>6</td>\n",
       "      <td>Himaja</td>\n",
       "      <td>Velugula</td>\n",
       "      <td>Philadelphia</td>\n",
       "      <td>EU</td>\n",
       "    </tr>\n",
       "  </tbody>\n",
       "</table>\n",
       "</div>"
      ],
      "text/plain": [
       "   ID  F_NAME    L_NAME          CITY CCODE\n",
       "0   1     Rav     Ahuja       Toronto    CA\n",
       "1   2   Rahul  Chowdary        Mumbai    IN\n",
       "2   3    Hima    Velugu       Chicago    US\n",
       "3   4  Raviya     Bilal       Toronto    CA\n",
       "4   5   Rahul     Kumar        Mumbai    IN\n",
       "5   6  Himaja  Velugula  Philadelphia    EU"
      ]
     },
     "execution_count": 44,
     "metadata": {},
     "output_type": "execute_result"
    }
   ],
   "source": [
    "#  5-----RETRIVE DATA INTO PANDAS \n",
    "!pip install pandas \n",
    "import pandas as pd\n",
    "\n",
    "df = pd.read_sql_query(\"select * from INSTRUCTOR ;\", conn_object)\n",
    "df"
   ]
  },
  {
   "cell_type": "code",
   "execution_count": 46,
   "id": "33d91f68-b1ae-4c8f-b1d3-91b2309627a0",
   "metadata": {},
   "outputs": [
    {
     "data": {
      "text/plain": [
       "0       Ahuja\n",
       "1    Chowdary\n",
       "2      Velugu\n",
       "3       Bilal\n",
       "4       Kumar\n",
       "5    Velugula\n",
       "Name: L_NAME, dtype: object"
      ]
     },
     "execution_count": 46,
     "metadata": {},
     "output_type": "execute_result"
    }
   ],
   "source": [
    "df.L_NAME"
   ]
  },
  {
   "cell_type": "code",
   "execution_count": null,
   "id": "34322890-354c-4d9a-9e95-c4752d7f5f20",
   "metadata": {},
   "outputs": [],
   "source": [
    "# step_______4 close the connection \n",
    "\n",
    "conn_object.close()"
   ]
  },
  {
   "cell_type": "code",
   "execution_count": null,
   "id": "b1b72f80-b7c3-4411-8c05-5a7b7c0d8995",
   "metadata": {},
   "outputs": [],
   "source": []
  }
 ],
 "metadata": {
  "kernelspec": {
   "display_name": "Python 3 (ipykernel)",
   "language": "python",
   "name": "python3"
  },
  "language_info": {
   "codemirror_mode": {
    "name": "ipython",
    "version": 3
   },
   "file_extension": ".py",
   "mimetype": "text/x-python",
   "name": "python",
   "nbconvert_exporter": "python",
   "pygments_lexer": "ipython3",
   "version": "3.12.8"
  }
 },
 "nbformat": 4,
 "nbformat_minor": 5
}
